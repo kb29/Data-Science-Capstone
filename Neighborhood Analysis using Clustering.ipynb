{
 "cells": [
  {
   "cell_type": "markdown",
   "metadata": {},
   "source": [
    "# Clustering Neighborhoods"
   ]
  },
  {
   "cell_type": "code",
   "execution_count": 2,
   "metadata": {},
   "outputs": [],
   "source": [
    "import pandas as pd\n",
    "import numpy as np\n",
    "import matplotlib.pyplot as plt\n",
    "import seaborn as sns\n",
    "from pandas.io.json import json_normalize\n",
    "import requests\n",
    "import random"
   ]
  },
  {
   "cell_type": "code",
   "execution_count": 3,
   "metadata": {},
   "outputs": [],
   "source": [
    "from geopy.geocoders import Nominatim\n",
    "from IPython.display import Image \n",
    "from IPython.core.display import HTML "
   ]
  },
  {
   "cell_type": "code",
   "execution_count": 4,
   "metadata": {},
   "outputs": [],
   "source": [
    "import folium"
   ]
  },
  {
   "cell_type": "markdown",
   "metadata": {},
   "source": [
    "# Initializing values"
   ]
  },
  {
   "cell_type": "code",
   "execution_count": 5,
   "metadata": {},
   "outputs": [],
   "source": [
    "client_id = 'ITKVISZUN50K5OIU5THJ0A330ABDVLFMOSX4NUB41ESFVYSA'\n",
    "client_secret = 'MACPFVUEFU3BEHD4YZREQUBDEBFX0JFOPQ0YLIEBRHWQ0ELC'\n",
    "ver = '20180604'\n",
    "lim = 30"
   ]
  },
  {
   "cell_type": "code",
   "execution_count": 6,
   "metadata": {},
   "outputs": [
    {
     "name": "stdout",
     "output_type": "stream",
     "text": [
      "40.7151482 -74.0156573\n"
     ]
    }
   ],
   "source": [
    "addr = '102 North End Ave, New York, NY'\n",
    "geolocator = Nominatim(user_agent=\"foursquare_agent\")\n",
    "location = geolocator.geocode(addr)\n",
    "lat = location.latitude\n",
    "long = location.longitude\n",
    "print(lat,long)"
   ]
  },
  {
   "cell_type": "code",
   "execution_count": 7,
   "metadata": {},
   "outputs": [],
   "source": [
    "search_q = 'Italian'\n",
    "radius = 500"
   ]
  },
  {
   "cell_type": "code",
   "execution_count": 8,
   "metadata": {},
   "outputs": [
    {
     "data": {
      "text/plain": [
       "'https://api.foursquare.com/v2/venues/search?client_id=ITKVISZUN50K5OIU5THJ0A330ABDVLFMOSX4NUB41ESFVYSA&client_secret=MACPFVUEFU3BEHD4YZREQUBDEBFX0JFOPQ0YLIEBRHWQ0ELC&ll=40.7151482,-74.0156573&v=20180604&query=Italian&radius=500&limit=30'"
      ]
     },
     "execution_count": 8,
     "metadata": {},
     "output_type": "execute_result"
    }
   ],
   "source": [
    "url = 'https://api.foursquare.com/v2/venues/search?client_id={}&client_secret={}&ll={},{}&v={}&query={}&radius={}&limit={}'.format(client_id, client_secret, lat, long, ver, search_q, radius, lim)\n",
    "url"
   ]
  },
  {
   "cell_type": "code",
   "execution_count": 9,
   "metadata": {},
   "outputs": [
    {
     "data": {
      "text/plain": [
       "{'meta': {'code': 200, 'requestId': '5f0d58305bd87379b3f26584'},\n",
       " 'response': {'venues': [{'id': '4fa862b3e4b0ebff2f749f06',\n",
       "    'name': \"Harry's Italian Pizza Bar\",\n",
       "    'location': {'address': '225 Murray St',\n",
       "     'lat': 40.71521779064671,\n",
       "     'lng': -74.01473940209351,\n",
       "     'labeledLatLngs': [{'label': 'display',\n",
       "       'lat': 40.71521779064671,\n",
       "       'lng': -74.01473940209351},\n",
       "      {'label': 'entrance', 'lat': 40.715361, 'lng': -74.014975}],\n",
       "     'distance': 77,\n",
       "     'postalCode': '10282',\n",
       "     'cc': 'US',\n",
       "     'city': 'New York',\n",
       "     'state': 'NY',\n",
       "     'country': 'United States',\n",
       "     'formattedAddress': ['225 Murray St',\n",
       "      'New York, NY 10282',\n",
       "      'United States']},\n",
       "    'categories': [{'id': '4bf58dd8d48988d1ca941735',\n",
       "      'name': 'Pizza Place',\n",
       "      'pluralName': 'Pizza Places',\n",
       "      'shortName': 'Pizza',\n",
       "      'icon': {'prefix': 'https://ss3.4sqi.net/img/categories_v2/food/pizza_',\n",
       "       'suffix': '.png'},\n",
       "      'primary': True}],\n",
       "    'referralId': 'v-1594710487',\n",
       "    'hasPerk': False},\n",
       "   {'id': '4f3232e219836c91c7bfde94',\n",
       "    'name': 'Conca Cucina Italian Restaurant',\n",
       "    'location': {'address': '63 W Broadway',\n",
       "     'lat': 40.714484000000006,\n",
       "     'lng': -74.00980600000001,\n",
       "     'labeledLatLngs': [{'label': 'display',\n",
       "       'lat': 40.714484000000006,\n",
       "       'lng': -74.00980600000001}],\n",
       "     'distance': 499,\n",
       "     'postalCode': '10007',\n",
       "     'cc': 'US',\n",
       "     'city': 'New York',\n",
       "     'state': 'NY',\n",
       "     'country': 'United States',\n",
       "     'formattedAddress': ['63 W Broadway',\n",
       "      'New York, NY 10007',\n",
       "      'United States']},\n",
       "    'categories': [{'id': '4d4b7105d754a06374d81259',\n",
       "      'name': 'Food',\n",
       "      'pluralName': 'Food',\n",
       "      'shortName': 'Food',\n",
       "      'icon': {'prefix': 'https://ss3.4sqi.net/img/categories_v2/food/default_',\n",
       "       'suffix': '.png'},\n",
       "      'primary': True}],\n",
       "    'referralId': 'v-1594710487',\n",
       "    'hasPerk': False}]}}"
      ]
     },
     "execution_count": 9,
     "metadata": {},
     "output_type": "execute_result"
    }
   ],
   "source": [
    "data = requests.get(url).json()\n",
    "data"
   ]
  },
  {
   "cell_type": "code",
   "execution_count": 10,
   "metadata": {},
   "outputs": [
    {
     "name": "stderr",
     "output_type": "stream",
     "text": [
      "<ipython-input-10-273628fa3cdf>:5: FutureWarning: pandas.io.json.json_normalize is deprecated, use pandas.json_normalize instead\n",
      "  df = json_normalize(venue)\n"
     ]
    },
    {
     "data": {
      "text/html": [
       "<div>\n",
       "<style scoped>\n",
       "    .dataframe tbody tr th:only-of-type {\n",
       "        vertical-align: middle;\n",
       "    }\n",
       "\n",
       "    .dataframe tbody tr th {\n",
       "        vertical-align: top;\n",
       "    }\n",
       "\n",
       "    .dataframe thead th {\n",
       "        text-align: right;\n",
       "    }\n",
       "</style>\n",
       "<table border=\"1\" class=\"dataframe\">\n",
       "  <thead>\n",
       "    <tr style=\"text-align: right;\">\n",
       "      <th></th>\n",
       "      <th>id</th>\n",
       "      <th>name</th>\n",
       "      <th>categories</th>\n",
       "      <th>referralId</th>\n",
       "      <th>hasPerk</th>\n",
       "      <th>location.address</th>\n",
       "      <th>location.lat</th>\n",
       "      <th>location.lng</th>\n",
       "      <th>location.labeledLatLngs</th>\n",
       "      <th>location.distance</th>\n",
       "      <th>location.postalCode</th>\n",
       "      <th>location.cc</th>\n",
       "      <th>location.city</th>\n",
       "      <th>location.state</th>\n",
       "      <th>location.country</th>\n",
       "      <th>location.formattedAddress</th>\n",
       "    </tr>\n",
       "  </thead>\n",
       "  <tbody>\n",
       "    <tr>\n",
       "      <th>0</th>\n",
       "      <td>4fa862b3e4b0ebff2f749f06</td>\n",
       "      <td>Harry's Italian Pizza Bar</td>\n",
       "      <td>[{'id': '4bf58dd8d48988d1ca941735', 'name': 'P...</td>\n",
       "      <td>v-1594710487</td>\n",
       "      <td>False</td>\n",
       "      <td>225 Murray St</td>\n",
       "      <td>40.715218</td>\n",
       "      <td>-74.014739</td>\n",
       "      <td>[{'label': 'display', 'lat': 40.71521779064671...</td>\n",
       "      <td>77</td>\n",
       "      <td>10282</td>\n",
       "      <td>US</td>\n",
       "      <td>New York</td>\n",
       "      <td>NY</td>\n",
       "      <td>United States</td>\n",
       "      <td>[225 Murray St, New York, NY 10282, United Sta...</td>\n",
       "    </tr>\n",
       "    <tr>\n",
       "      <th>1</th>\n",
       "      <td>4f3232e219836c91c7bfde94</td>\n",
       "      <td>Conca Cucina Italian Restaurant</td>\n",
       "      <td>[{'id': '4d4b7105d754a06374d81259', 'name': 'F...</td>\n",
       "      <td>v-1594710487</td>\n",
       "      <td>False</td>\n",
       "      <td>63 W Broadway</td>\n",
       "      <td>40.714484</td>\n",
       "      <td>-74.009806</td>\n",
       "      <td>[{'label': 'display', 'lat': 40.71448400000000...</td>\n",
       "      <td>499</td>\n",
       "      <td>10007</td>\n",
       "      <td>US</td>\n",
       "      <td>New York</td>\n",
       "      <td>NY</td>\n",
       "      <td>United States</td>\n",
       "      <td>[63 W Broadway, New York, NY 10007, United Sta...</td>\n",
       "    </tr>\n",
       "  </tbody>\n",
       "</table>\n",
       "</div>"
      ],
      "text/plain": [
       "                         id                             name  \\\n",
       "0  4fa862b3e4b0ebff2f749f06        Harry's Italian Pizza Bar   \n",
       "1  4f3232e219836c91c7bfde94  Conca Cucina Italian Restaurant   \n",
       "\n",
       "                                          categories    referralId  hasPerk  \\\n",
       "0  [{'id': '4bf58dd8d48988d1ca941735', 'name': 'P...  v-1594710487    False   \n",
       "1  [{'id': '4d4b7105d754a06374d81259', 'name': 'F...  v-1594710487    False   \n",
       "\n",
       "  location.address  location.lat  location.lng  \\\n",
       "0    225 Murray St     40.715218    -74.014739   \n",
       "1    63 W Broadway     40.714484    -74.009806   \n",
       "\n",
       "                             location.labeledLatLngs  location.distance  \\\n",
       "0  [{'label': 'display', 'lat': 40.71521779064671...                 77   \n",
       "1  [{'label': 'display', 'lat': 40.71448400000000...                499   \n",
       "\n",
       "  location.postalCode location.cc location.city location.state  \\\n",
       "0               10282          US      New York             NY   \n",
       "1               10007          US      New York             NY   \n",
       "\n",
       "  location.country                          location.formattedAddress  \n",
       "0    United States  [225 Murray St, New York, NY 10282, United Sta...  \n",
       "1    United States  [63 W Broadway, New York, NY 10007, United Sta...  "
      ]
     },
     "execution_count": 10,
     "metadata": {},
     "output_type": "execute_result"
    }
   ],
   "source": [
    "# assigning venue data\n",
    "venue = data['response']['venues']\n",
    "\n",
    "# creating df\n",
    "df = json_normalize(venue)\n",
    "df.head()"
   ]
  },
  {
   "cell_type": "markdown",
   "metadata": {},
   "source": [
    "# Cleaning Data"
   ]
  },
  {
   "cell_type": "code",
   "execution_count": 11,
   "metadata": {},
   "outputs": [
    {
     "data": {
      "text/html": [
       "<div>\n",
       "<style scoped>\n",
       "    .dataframe tbody tr th:only-of-type {\n",
       "        vertical-align: middle;\n",
       "    }\n",
       "\n",
       "    .dataframe tbody tr th {\n",
       "        vertical-align: top;\n",
       "    }\n",
       "\n",
       "    .dataframe thead th {\n",
       "        text-align: right;\n",
       "    }\n",
       "</style>\n",
       "<table border=\"1\" class=\"dataframe\">\n",
       "  <thead>\n",
       "    <tr style=\"text-align: right;\">\n",
       "      <th></th>\n",
       "      <th>name</th>\n",
       "      <th>categories</th>\n",
       "      <th>address</th>\n",
       "      <th>lat</th>\n",
       "      <th>lng</th>\n",
       "      <th>labeledLatLngs</th>\n",
       "      <th>distance</th>\n",
       "      <th>postalCode</th>\n",
       "      <th>cc</th>\n",
       "      <th>city</th>\n",
       "      <th>state</th>\n",
       "      <th>country</th>\n",
       "      <th>formattedAddress</th>\n",
       "      <th>id</th>\n",
       "    </tr>\n",
       "  </thead>\n",
       "  <tbody>\n",
       "    <tr>\n",
       "      <th>0</th>\n",
       "      <td>Harry's Italian Pizza Bar</td>\n",
       "      <td>Pizza Place</td>\n",
       "      <td>225 Murray St</td>\n",
       "      <td>40.715218</td>\n",
       "      <td>-74.014739</td>\n",
       "      <td>[{'label': 'display', 'lat': 40.71521779064671...</td>\n",
       "      <td>77</td>\n",
       "      <td>10282</td>\n",
       "      <td>US</td>\n",
       "      <td>New York</td>\n",
       "      <td>NY</td>\n",
       "      <td>United States</td>\n",
       "      <td>[225 Murray St, New York, NY 10282, United Sta...</td>\n",
       "      <td>4fa862b3e4b0ebff2f749f06</td>\n",
       "    </tr>\n",
       "    <tr>\n",
       "      <th>1</th>\n",
       "      <td>Conca Cucina Italian Restaurant</td>\n",
       "      <td>Food</td>\n",
       "      <td>63 W Broadway</td>\n",
       "      <td>40.714484</td>\n",
       "      <td>-74.009806</td>\n",
       "      <td>[{'label': 'display', 'lat': 40.71448400000000...</td>\n",
       "      <td>499</td>\n",
       "      <td>10007</td>\n",
       "      <td>US</td>\n",
       "      <td>New York</td>\n",
       "      <td>NY</td>\n",
       "      <td>United States</td>\n",
       "      <td>[63 W Broadway, New York, NY 10007, United Sta...</td>\n",
       "      <td>4f3232e219836c91c7bfde94</td>\n",
       "    </tr>\n",
       "  </tbody>\n",
       "</table>\n",
       "</div>"
      ],
      "text/plain": [
       "                              name   categories        address        lat  \\\n",
       "0        Harry's Italian Pizza Bar  Pizza Place  225 Murray St  40.715218   \n",
       "1  Conca Cucina Italian Restaurant         Food  63 W Broadway  40.714484   \n",
       "\n",
       "         lng                                     labeledLatLngs  distance  \\\n",
       "0 -74.014739  [{'label': 'display', 'lat': 40.71521779064671...        77   \n",
       "1 -74.009806  [{'label': 'display', 'lat': 40.71448400000000...       499   \n",
       "\n",
       "  postalCode  cc      city state        country  \\\n",
       "0      10282  US  New York    NY  United States   \n",
       "1      10007  US  New York    NY  United States   \n",
       "\n",
       "                                    formattedAddress                        id  \n",
       "0  [225 Murray St, New York, NY 10282, United Sta...  4fa862b3e4b0ebff2f749f06  \n",
       "1  [63 W Broadway, New York, NY 10007, United Sta...  4f3232e219836c91c7bfde94  "
      ]
     },
     "execution_count": 11,
     "metadata": {},
     "output_type": "execute_result"
    }
   ],
   "source": [
    "fil_cols = ['name', 'categories'] + [col for col in df.columns if col.startswith('location.')] + ['id']\n",
    "df_filter = df.loc[:, fil_cols]\n",
    "\n",
    "# function that extracts the category of the venue\n",
    "def get_category_type(row):\n",
    "    try:\n",
    "        categories_list = row['categories']\n",
    "    except:\n",
    "        categories_list = row['venue.categories']\n",
    "        \n",
    "    if len(categories_list) == 0:\n",
    "        return None\n",
    "    else:\n",
    "        return categories_list[0]['name']\n",
    "\n",
    "# filter the category for each row\n",
    "df_filter['categories'] = df_filter.apply(get_category_type, axis=1)\n",
    "\n",
    "# clean column names by keeping only last term\n",
    "df_filter.columns = [column.split('.')[-1] for column in df_filter.columns]\n",
    "df_filter"
   ]
  },
  {
   "cell_type": "markdown",
   "metadata": {},
   "source": [
    "# Visualizing location"
   ]
  },
  {
   "cell_type": "code",
   "execution_count": 80,
   "metadata": {},
   "outputs": [
    {
     "data": {
      "text/html": [
       "<div style=\"width:100%;\"><div style=\"position:relative;width:100%;height:0;padding-bottom:60%;\"><span style=\"color:#565656\">Make this Notebook Trusted to load map: File -> Trust Notebook</span><iframe src=\"about:blank\" style=\"position:absolute;width:100%;height:100%;left:0;top:0;border:none !important;\" data-html=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 onload=\"this.contentDocument.open();this.contentDocument.write(atob(this.getAttribute('data-html')));this.contentDocument.close();\" allowfullscreen webkitallowfullscreen mozallowfullscreen></iframe></div></div>"
      ],
      "text/plain": [
       "<folium.folium.Map at 0xc97b328>"
      ]
     },
     "execution_count": 80,
     "metadata": {},
     "output_type": "execute_result"
    }
   ],
   "source": [
    "venue_m = folium.Map(location=[lat,long], zoom_start=15)\n",
    "\n",
    "folium.CircleMarker(\n",
    "    [lat,long],\n",
    "    radius=10,\n",
    "    popup='Conrad Hotel',\n",
    "    fill=True,\n",
    "    fill_color='red',\n",
    "    fill_opacity=0.4\n",
    ").add_to(venue_m)\n",
    "for lat, lng, label in zip(df_filter.lat, df_filter.lng, df_filter.categories):\n",
    "    folium.CircleMarker(\n",
    "    [lat,lng],\n",
    "    radius=10,\n",
    "    fill=True,\n",
    "    popup=label,\n",
    "    fill_color='purple',\n",
    "    fill_opacity=0.5).add_to(venue_m)\n",
    "venue_m"
   ]
  },
  {
   "cell_type": "markdown",
   "metadata": {},
   "source": [
    "# Exploring Ratings of Venues"
   ]
  },
  {
   "cell_type": "code",
   "execution_count": 19,
   "metadata": {},
   "outputs": [
    {
     "data": {
      "text/plain": [
       "'https://api.foursquare.com/v2/venues/4fa862b3e4b0ebff2f749f06?client_id=ITKVISZUN50K5OIU5THJ0A330ABDVLFMOSX4NUB41ESFVYSA&client_secret=MACPFVUEFU3BEHD4YZREQUBDEBFX0JFOPQ0YLIEBRHWQ0ELC&v=20180604'"
      ]
     },
     "execution_count": 19,
     "metadata": {},
     "output_type": "execute_result"
    }
   ],
   "source": [
    "# Harry's Italian Pizza Bar\n",
    "ven_id = '4fa862b3e4b0ebff2f749f06'\n",
    "url = 'https://api.foursquare.com/v2/venues/{}?client_id={}&client_secret={}&v={}'.format(ven_id,client_id,client_secret,ver)\n",
    "url"
   ]
  },
  {
   "cell_type": "code",
   "execution_count": 26,
   "metadata": {},
   "outputs": [
    {
     "name": "stdout",
     "output_type": "stream",
     "text": [
      "dict_keys(['id', 'name', 'contact', 'location', 'canonicalUrl', 'categories', 'verified', 'stats', 'url', 'price', 'hasMenu', 'likes', 'dislike', 'ok', 'rating', 'ratingColor', 'ratingSignals', 'menu', 'allowMenuUrlEdit', 'beenHere', 'specials', 'photos', 'reasons', 'hereNow', 'createdAt', 'tips', 'shortUrl', 'timeZone', 'listed', 'hours', 'popular', 'seasonalHours', 'defaultHours', 'pageUpdates', 'inbox', 'attributes', 'bestPhoto', 'colors'])\n"
     ]
    }
   ],
   "source": [
    "data2 = requests.get(url).json()\n",
    "print(data2['response']['venue'].keys())"
   ]
  },
  {
   "cell_type": "code",
   "execution_count": 24,
   "metadata": {},
   "outputs": [
    {
     "name": "stdout",
     "output_type": "stream",
     "text": [
      "Rating: 6.9\n"
     ]
    }
   ],
   "source": [
    "print('Rating:', data2['response']['venue']['rating'])"
   ]
  },
  {
   "cell_type": "code",
   "execution_count": 27,
   "metadata": {},
   "outputs": [
    {
     "data": {
      "text/plain": [
       "'https://api.foursquare.com/v2/venues/4f3232e219836c91c7bfde94?client_id=ITKVISZUN50K5OIU5THJ0A330ABDVLFMOSX4NUB41ESFVYSA&client_secret=MACPFVUEFU3BEHD4YZREQUBDEBFX0JFOPQ0YLIEBRHWQ0ELC&v=20180604'"
      ]
     },
     "execution_count": 27,
     "metadata": {},
     "output_type": "execute_result"
    }
   ],
   "source": [
    "# Conca Cucina hotel\n",
    "ven_id = '4f3232e219836c91c7bfde94'\n",
    "url = 'https://api.foursquare.com/v2/venues/{}?client_id={}&client_secret={}&v={}'.format(ven_id,client_id,client_secret,ver)\n",
    "url"
   ]
  },
  {
   "cell_type": "code",
   "execution_count": 30,
   "metadata": {},
   "outputs": [
    {
     "name": "stdout",
     "output_type": "stream",
     "text": [
      "dict_keys(['id', 'name', 'contact', 'location', 'canonicalUrl', 'categories', 'verified', 'stats', 'likes', 'dislike', 'ok', 'allowMenuUrlEdit', 'beenHere', 'specials', 'photos', 'reasons', 'hereNow', 'createdAt', 'tips', 'shortUrl', 'timeZone', 'listed', 'seasonalHours', 'pageUpdates', 'inbox', 'attributes'])\n"
     ]
    }
   ],
   "source": [
    "data3 = requests.get(url).json()\n",
    "print(data3['response']['venue'].keys())"
   ]
  },
  {
   "cell_type": "code",
   "execution_count": 32,
   "metadata": {},
   "outputs": [
    {
     "name": "stdout",
     "output_type": "stream",
     "text": [
      "No rating available\n"
     ]
    }
   ],
   "source": [
    "try:\n",
    "    print('Rating',data3['response']['venue']['rating'])\n",
    "except:\n",
    "    print('No rating available')"
   ]
  },
  {
   "cell_type": "code",
   "execution_count": 34,
   "metadata": {},
   "outputs": [
    {
     "name": "stdout",
     "output_type": "stream",
     "text": [
      "7.3\n"
     ]
    }
   ],
   "source": [
    "# For Ecco Hotel\n",
    "ven_id = '3fd66200f964a520f4e41ee3' \n",
    "url = 'https://api.foursquare.com/v2/venues/{}?client_id={}&client_secret={}&v={}'.format(ven_id, client_id, client_secret, ver)\n",
    "\n",
    "data4 = requests.get(url).json()\n",
    "try:\n",
    "    print(data4['response']['venue']['rating'])\n",
    "except:\n",
    "    print('This venue has not been rated yet.')"
   ]
  },
  {
   "cell_type": "markdown",
   "metadata": {},
   "source": [
    "# Exploring tips in Venues"
   ]
  },
  {
   "cell_type": "code",
   "execution_count": 36,
   "metadata": {},
   "outputs": [
    {
     "data": {
      "text/plain": [
       "19"
      ]
     },
     "execution_count": 36,
     "metadata": {},
     "output_type": "execute_result"
    }
   ],
   "source": [
    "data4['response']['venue']['tips']['count']"
   ]
  },
  {
   "cell_type": "code",
   "execution_count": 45,
   "metadata": {},
   "outputs": [
    {
     "data": {
      "text/plain": [
       "{'meta': {'code': 200, 'requestId': '5f0d80bc20a61b42e0170081'},\n",
       " 'response': {'venue': {'id': '3fd66200f964a520f4e41ee3',\n",
       "   'name': 'Ecco',\n",
       "   'contact': {'phone': '2122277074',\n",
       "    'formattedPhone': '(212) 227-7074',\n",
       "    'facebook': '496751683729009',\n",
       "    'facebookUsername': 'EccoRestaurant',\n",
       "    'facebookName': 'Ecco'},\n",
       "   'location': {'address': '124 Chambers St',\n",
       "    'crossStreet': 'btwn Church St & W Broadway',\n",
       "    'lat': 40.71533713859952,\n",
       "    'lng': -74.00884766217825,\n",
       "    'labeledLatLngs': [{'label': 'display',\n",
       "      'lat': 40.71533713859952,\n",
       "      'lng': -74.00884766217825},\n",
       "     {'label': 'entrance', 'lat': 40.715202, 'lng': -74.008779}],\n",
       "    'postalCode': '10007',\n",
       "    'cc': 'US',\n",
       "    'city': 'New York',\n",
       "    'state': 'NY',\n",
       "    'country': 'United States',\n",
       "    'formattedAddress': ['124 Chambers St (btwn Church St & W Broadway)',\n",
       "     'New York, NY 10007',\n",
       "     'United States']},\n",
       "   'canonicalUrl': 'https://foursquare.com/v/ecco/3fd66200f964a520f4e41ee3',\n",
       "   'categories': [{'id': '4bf58dd8d48988d110941735',\n",
       "     'name': 'Italian Restaurant',\n",
       "     'pluralName': 'Italian Restaurants',\n",
       "     'shortName': 'Italian',\n",
       "     'icon': {'prefix': 'https://ss3.4sqi.net/img/categories_v2/food/italian_',\n",
       "      'suffix': '.png'},\n",
       "     'primary': True}],\n",
       "   'verified': False,\n",
       "   'stats': {'tipCount': 19},\n",
       "   'url': 'http://eccorestaurantny.com',\n",
       "   'price': {'tier': 4, 'message': 'Very Expensive', 'currency': '$'},\n",
       "   'hasMenu': True,\n",
       "   'likes': {'count': 29,\n",
       "    'groups': [{'type': 'others', 'count': 29, 'items': []}],\n",
       "    'summary': '29 Likes'},\n",
       "   'dislike': False,\n",
       "   'ok': False,\n",
       "   'rating': 7.3,\n",
       "   'ratingColor': 'C5DE35',\n",
       "   'ratingSignals': 50,\n",
       "   'menu': {'type': 'Menu',\n",
       "    'label': 'Menu',\n",
       "    'anchor': 'View Menu',\n",
       "    'url': 'https://foursquare.com/v/ecco/3fd66200f964a520f4e41ee3/menu',\n",
       "    'mobileUrl': 'https://foursquare.com/v/3fd66200f964a520f4e41ee3/device_menu'},\n",
       "   'allowMenuUrlEdit': True,\n",
       "   'beenHere': {'count': 0,\n",
       "    'unconfirmedCount': 0,\n",
       "    'marked': False,\n",
       "    'lastCheckinExpiredAt': 0},\n",
       "   'specials': {'count': 0, 'items': []},\n",
       "   'photos': {'count': 28,\n",
       "    'groups': [{'type': 'venue',\n",
       "      'name': 'Venue photos',\n",
       "      'count': 28,\n",
       "      'items': [{'id': '528978d911d2a8116a4002c8',\n",
       "        'createdAt': 1384741081,\n",
       "        'source': {'name': 'Foursquare for iOS',\n",
       "         'url': 'https://foursquare.com/download/#/iphone'},\n",
       "        'prefix': 'https://fastly.4sqi.net/img/general/',\n",
       "        'suffix': '/24412143_mq4JUeLeH6QJYFMyQ_YBbfRLoTHGPxe3Igh8ZdVee2c.jpg',\n",
       "        'width': 717,\n",
       "        'height': 959,\n",
       "        'user': {'id': '24412143',\n",
       "         'firstName': 'Carlos',\n",
       "         'lastName': 'S',\n",
       "         'photo': {'prefix': 'https://fastly.4sqi.net/img/user/',\n",
       "          'suffix': '/FD3Y5OROMSQSQBDK.jpg'}},\n",
       "        'visibility': 'public'}]}]},\n",
       "   'reasons': {'count': 0, 'items': []},\n",
       "   'hereNow': {'count': 0, 'summary': 'Nobody here', 'groups': []},\n",
       "   'createdAt': 1071014400,\n",
       "   'tips': {'count': 19,\n",
       "    'groups': [{'type': 'others',\n",
       "      'name': 'All tips',\n",
       "      'count': 19,\n",
       "      'items': [{'id': '4c7ac41f278eb713ae245c80',\n",
       "        'createdAt': 1283114015,\n",
       "        'text': 'Old world comfort where you can enjoy veal chop alla salvia, lobster fra diavolo and branzino al forno. You can get our free Downtown dining guide at http://www.downtownny.com/mapsguides/',\n",
       "        'entities': [{'indices': [150, 187],\n",
       "          'type': 'url',\n",
       "          'object': {'url': 'http://www.downtownny.com/mapsguides/'}}],\n",
       "        'type': 'user',\n",
       "        'canonicalUrl': 'https://foursquare.com/item/4c7ac41f278eb713ae245c80',\n",
       "        'lang': 'en',\n",
       "        'likes': {'count': 2,\n",
       "         'groups': [{'type': 'others',\n",
       "           'count': 2,\n",
       "           'items': [{'id': '9386209',\n",
       "             'firstName': 'The Official Khalis',\n",
       "             'photo': {'prefix': 'https://fastly.4sqi.net/img/user/',\n",
       "              'suffix': '/9386209-XJKHDWP30AUDGT4H.jpg'}}]}],\n",
       "         'summary': '2 likes'},\n",
       "        'logView': True,\n",
       "        'agreeCount': 2,\n",
       "        'disagreeCount': 0,\n",
       "        'todo': {'count': 5},\n",
       "        'user': {'id': '2901547',\n",
       "         'firstName': 'Downtown',\n",
       "         'lastName': 'A',\n",
       "         'photo': {'prefix': 'https://fastly.4sqi.net/img/user/',\n",
       "          'suffix': '/TQWAQFUYL5LWNK2M.jpg'}}}]}]},\n",
       "   'shortUrl': 'http://4sq.com/51Ix66',\n",
       "   'timeZone': 'America/New_York',\n",
       "   'listed': {'count': 18,\n",
       "    'groups': [{'type': 'others',\n",
       "      'name': 'Lists from other people',\n",
       "      'count': 18,\n",
       "      'items': [{'id': '5673264b498e672bdbb5712d',\n",
       "        'name': 'NY Normcore Dining',\n",
       "        'description': 'From http://www.grubstreet.com/2015/12/nostalgic-comfort-of-normcore-dining.html',\n",
       "        'entities': [{'indices': [5, 80],\n",
       "          'type': 'url',\n",
       "          'object': {'url': 'http://www.grubstreet.com/2015/12/nostalgic-comfort-of-normcore-dining.html'}}],\n",
       "        'type': 'others',\n",
       "        'user': {'id': '1503',\n",
       "         'firstName': 'Peter',\n",
       "         'lastName': 'R',\n",
       "         'photo': {'prefix': 'https://fastly.4sqi.net/img/user/',\n",
       "          'suffix': '/JSXLLIO2XYK13M0Y.jpg'}},\n",
       "        'editable': False,\n",
       "        'public': True,\n",
       "        'collaborative': False,\n",
       "        'url': '/pr1001/list/ny-normcore-dining',\n",
       "        'canonicalUrl': 'https://foursquare.com/pr1001/list/ny-normcore-dining',\n",
       "        'createdAt': 1450387019,\n",
       "        'updatedAt': 1450390212,\n",
       "        'photo': {'id': '5001d8fde4b0645fed123c14',\n",
       "         'createdAt': 1342298365,\n",
       "         'prefix': 'https://fastly.4sqi.net/img/general/',\n",
       "         'suffix': '/8b85LWtkW9kg4DbzeSk7NFwkYwaxycmzKQM56r0z1yU.jpg',\n",
       "         'width': 612,\n",
       "         'height': 612,\n",
       "         'user': {'id': '7001939',\n",
       "          'firstName': 'Edward',\n",
       "          'lastName': 'G',\n",
       "          'photo': {'prefix': 'https://fastly.4sqi.net/img/user/',\n",
       "           'suffix': '/WXL10RWBHECGEWVW.jpg'}},\n",
       "         'visibility': 'public'},\n",
       "        'followers': {'count': 1},\n",
       "        'listItems': {'count': 112,\n",
       "         'items': [{'id': 'v3fd66200f964a520f4e41ee3',\n",
       "           'createdAt': 1450387744}]}},\n",
       "       {'id': '4fd78e0de4b0fcbcb8ec2752',\n",
       "        'name': 'NYC eats',\n",
       "        'description': '',\n",
       "        'type': 'others',\n",
       "        'user': {'id': '31732',\n",
       "         'firstName': 'Jill',\n",
       "         'lastName': 'G',\n",
       "         'photo': {'prefix': 'https://fastly.4sqi.net/img/user/',\n",
       "          'suffix': '/31732_r4MbHzk4_ZhrjzeuYBtkUlZh7M74tT-YXAdK0s0zE_2gKF0iBInqkQBR5scCCt1VjkeWxrUuO'}},\n",
       "        'editable': False,\n",
       "        'public': True,\n",
       "        'collaborative': False,\n",
       "        'url': '/user/31732/list/nyc-eats',\n",
       "        'canonicalUrl': 'https://foursquare.com/user/31732/list/nyc-eats',\n",
       "        'createdAt': 1339526669,\n",
       "        'updatedAt': 1391531298,\n",
       "        'followers': {'count': 0},\n",
       "        'listItems': {'count': 59,\n",
       "         'items': [{'id': 'v3fd66200f964a520f4e41ee3',\n",
       "           'createdAt': 1339527321}]}},\n",
       "       {'id': '4e80a3c9b803e97b5abde0ac',\n",
       "        'name': 'NY fooood',\n",
       "        'description': '',\n",
       "        'type': 'others',\n",
       "        'user': {'id': '3464318',\n",
       "         'firstName': 'Victoria',\n",
       "         'lastName': 'W',\n",
       "         'photo': {'prefix': 'https://fastly.4sqi.net/img/user/',\n",
       "          'suffix': '/22GRDQPDBOUIVNQS.jpg'}},\n",
       "        'editable': False,\n",
       "        'public': True,\n",
       "        'collaborative': False,\n",
       "        'url': '/vvictoriawong/list/ny-fooood',\n",
       "        'canonicalUrl': 'https://foursquare.com/vvictoriawong/list/ny-fooood',\n",
       "        'createdAt': 1317053385,\n",
       "        'updatedAt': 1384144797,\n",
       "        'photo': {'id': '4e8dd2711081e3b3546a2eba',\n",
       "         'createdAt': 1317917297,\n",
       "         'prefix': 'https://fastly.4sqi.net/img/general/',\n",
       "         'suffix': '/GYLQ0QRI1P33HU5BYBLSTF3ZUQVGFIFC3U42W5LU1QDTRF2I.jpg',\n",
       "         'width': 492,\n",
       "         'height': 328,\n",
       "         'user': {'id': '742542',\n",
       "          'firstName': 'Time Out New York',\n",
       "          'photo': {'prefix': 'https://fastly.4sqi.net/img/user/',\n",
       "           'suffix': '/XXHKCBSQHBORZNSR.jpg'},\n",
       "          'type': 'page'},\n",
       "         'visibility': 'public'},\n",
       "        'followers': {'count': 31},\n",
       "        'listItems': {'count': 195,\n",
       "         'items': [{'id': 'v3fd66200f964a520f4e41ee3',\n",
       "           'createdAt': 1331928898}]}},\n",
       "       {'id': '4ead71f6991176cf5a45a550',\n",
       "        'name': 'vagabond weekend',\n",
       "        'description': '',\n",
       "        'type': 'others',\n",
       "        'user': {'id': '3464318',\n",
       "         'firstName': 'Victoria',\n",
       "         'lastName': 'W',\n",
       "         'photo': {'prefix': 'https://fastly.4sqi.net/img/user/',\n",
       "          'suffix': '/22GRDQPDBOUIVNQS.jpg'}},\n",
       "        'editable': False,\n",
       "        'public': True,\n",
       "        'collaborative': False,\n",
       "        'url': '/vvictoriawong/list/vagabond-weekend',\n",
       "        'canonicalUrl': 'https://foursquare.com/vvictoriawong/list/vagabond-weekend',\n",
       "        'createdAt': 1319989750,\n",
       "        'updatedAt': 1380080468,\n",
       "        'photo': {'id': '4e9263734fc6674666f25b37',\n",
       "         'createdAt': 1318216563,\n",
       "         'prefix': 'https://fastly.4sqi.net/img/general/',\n",
       "         'suffix': '/JENPTELHP3KO5HFMEN0X4ELJOWDLLQB5BYULITQEA5HOBHUS.jpg',\n",
       "         'width': 492,\n",
       "         'height': 330,\n",
       "         'user': {'id': '742542',\n",
       "          'firstName': 'Time Out New York',\n",
       "          'photo': {'prefix': 'https://fastly.4sqi.net/img/user/',\n",
       "           'suffix': '/XXHKCBSQHBORZNSR.jpg'},\n",
       "          'type': 'page'},\n",
       "         'visibility': 'public'},\n",
       "        'followers': {'count': 7},\n",
       "        'listItems': {'count': 193,\n",
       "         'items': [{'id': 'v3fd66200f964a520f4e41ee3',\n",
       "           'createdAt': 1331928897}]}}]}]},\n",
       "   'hours': {'status': 'Closed until 11:45 AM',\n",
       "    'richStatus': {'entities': [], 'text': 'Closed until 11:45 AM'},\n",
       "    'isOpen': False,\n",
       "    'isLocalHoliday': False,\n",
       "    'dayData': [],\n",
       "    'timeframes': [{'days': 'Mon–Fri',\n",
       "      'includesToday': True,\n",
       "      'open': [{'renderedTime': '11:45 AM–11:00 PM'}],\n",
       "      'segments': []},\n",
       "     {'days': 'Sat',\n",
       "      'open': [{'renderedTime': '5:00 PM–11:00 PM'}],\n",
       "      'segments': []}]},\n",
       "   'popular': {'isOpen': False,\n",
       "    'isLocalHoliday': False,\n",
       "    'timeframes': [{'days': 'Today',\n",
       "      'includesToday': True,\n",
       "      'open': [{'renderedTime': '5:00 PM–11:00 PM'}],\n",
       "      'segments': []},\n",
       "     {'days': 'Wed',\n",
       "      'open': [{'renderedTime': '1:00 PM–3:00 PM'},\n",
       "       {'renderedTime': '5:00 PM–10:00 PM'}],\n",
       "      'segments': []},\n",
       "     {'days': 'Thu',\n",
       "      'open': [{'renderedTime': '1:00 PM–3:00 PM'},\n",
       "       {'renderedTime': '5:00 PM–11:00 PM'}],\n",
       "      'segments': []},\n",
       "     {'days': 'Fri',\n",
       "      'open': [{'renderedTime': 'Noon–1:00 PM'},\n",
       "       {'renderedTime': '6:00 PM–11:00 PM'}],\n",
       "      'segments': []},\n",
       "     {'days': 'Sat',\n",
       "      'open': [{'renderedTime': '5:00 PM–11:00 PM'}],\n",
       "      'segments': []},\n",
       "     {'days': 'Sun', 'open': [{'renderedTime': 'None'}], 'segments': []},\n",
       "     {'days': 'Mon',\n",
       "      'open': [{'renderedTime': '6:00 PM–10:00 PM'}],\n",
       "      'segments': []}]},\n",
       "   'seasonalHours': [],\n",
       "   'defaultHours': {'status': 'Closed until 11:45 AM',\n",
       "    'richStatus': {'entities': [], 'text': 'Closed until 11:45 AM'},\n",
       "    'isOpen': False,\n",
       "    'isLocalHoliday': False,\n",
       "    'dayData': [],\n",
       "    'timeframes': [{'days': 'Mon–Fri',\n",
       "      'includesToday': True,\n",
       "      'open': [{'renderedTime': '11:45 AM–11:00 PM'}],\n",
       "      'segments': []},\n",
       "     {'days': 'Sat',\n",
       "      'open': [{'renderedTime': '5:00 PM–11:00 PM'}],\n",
       "      'segments': []}]},\n",
       "   'pageUpdates': {'count': 0, 'items': []},\n",
       "   'inbox': {'count': 0, 'items': []},\n",
       "   'attributes': {'groups': [{'type': 'price',\n",
       "      'name': 'Price',\n",
       "      'summary': '$$$$',\n",
       "      'count': 1,\n",
       "      'items': [{'displayName': 'Price',\n",
       "        'displayValue': '$$$$',\n",
       "        'priceTier': 4}]},\n",
       "     {'type': 'payments',\n",
       "      'name': 'Credit Cards',\n",
       "      'summary': 'Credit Cards',\n",
       "      'count': 7,\n",
       "      'items': [{'displayName': 'Credit Cards',\n",
       "        'displayValue': 'Yes (incl. Discover & Visa)'}]},\n",
       "     {'type': 'outdoorSeating',\n",
       "      'name': 'Outdoor Seating',\n",
       "      'count': 1,\n",
       "      'items': [{'displayName': 'Outdoor Seating', 'displayValue': 'No'}]},\n",
       "     {'type': 'serves',\n",
       "      'name': 'Menus',\n",
       "      'summary': 'Dinner',\n",
       "      'count': 8,\n",
       "      'items': [{'displayName': 'Dinner', 'displayValue': 'Dinner'}]},\n",
       "     {'type': 'drinks',\n",
       "      'name': 'Drinks',\n",
       "      'summary': 'Wine, Full Bar & Cocktails',\n",
       "      'count': 5,\n",
       "      'items': [{'displayName': 'Wine', 'displayValue': 'Wine'},\n",
       "       {'displayName': 'Full Bar', 'displayValue': 'Full Bar'},\n",
       "       {'displayName': 'Cocktails', 'displayValue': 'Cocktails'}]},\n",
       "     {'type': 'parking',\n",
       "      'name': 'Parking',\n",
       "      'summary': 'Street Parking',\n",
       "      'count': 5,\n",
       "      'items': [{'displayName': 'Street Parking', 'displayValue': 'Street'}]},\n",
       "     {'type': 'restroom',\n",
       "      'name': 'Restroom',\n",
       "      'summary': 'Restroom',\n",
       "      'count': 1,\n",
       "      'items': [{'displayName': 'Restroom', 'displayValue': 'Yes'}]}]},\n",
       "   'bestPhoto': {'id': '528978d911d2a8116a4002c8',\n",
       "    'createdAt': 1384741081,\n",
       "    'source': {'name': 'Foursquare for iOS',\n",
       "     'url': 'https://foursquare.com/download/#/iphone'},\n",
       "    'prefix': 'https://fastly.4sqi.net/img/general/',\n",
       "    'suffix': '/24412143_mq4JUeLeH6QJYFMyQ_YBbfRLoTHGPxe3Igh8ZdVee2c.jpg',\n",
       "    'width': 717,\n",
       "    'height': 959,\n",
       "    'visibility': 'public'},\n",
       "   'colors': {'highlightColor': {'photoId': '528978d911d2a8116a4002c8',\n",
       "     'value': -460576},\n",
       "    'highlightTextColor': {'photoId': '528978d911d2a8116a4002c8',\n",
       "     'value': -16777216},\n",
       "    'algoVersion': 3}}}}"
      ]
     },
     "execution_count": 45,
     "metadata": {},
     "output_type": "execute_result"
    }
   ],
   "source": [
    "lim=20\n",
    "url = 'https://api.foursquare.com/v2/venues/{}?client_id={}&client_secret={}&v={}'.format(ven_id, client_id, client_secret, ver, lim)\n",
    "data = requests.get(url).json()\n",
    "data"
   ]
  },
  {
   "cell_type": "code",
   "execution_count": 59,
   "metadata": {},
   "outputs": [
    {
     "data": {
      "text/plain": [
       "dict_keys(['id', 'createdAt', 'text', 'entities', 'type', 'canonicalUrl', 'lang', 'likes', 'logView', 'agreeCount', 'disagreeCount', 'todo', 'user'])"
      ]
     },
     "execution_count": 59,
     "metadata": {},
     "output_type": "execute_result"
    }
   ],
   "source": [
    "tips = data['response']['venue']['tips']['groups']\n",
    "tip = tips[0]['items'][0]\n",
    "tip.keys()"
   ]
  },
  {
   "cell_type": "code",
   "execution_count": 63,
   "metadata": {},
   "outputs": [
    {
     "name": "stderr",
     "output_type": "stream",
     "text": [
      "<ipython-input-63-495e2efdb2e5>:1: FutureWarning: pandas.io.json.json_normalize is deprecated, use pandas.json_normalize instead\n",
      "  dftp = json_normalize(tip)\n"
     ]
    },
    {
     "data": {
      "text/html": [
       "<div>\n",
       "<style scoped>\n",
       "    .dataframe tbody tr th:only-of-type {\n",
       "        vertical-align: middle;\n",
       "    }\n",
       "\n",
       "    .dataframe tbody tr th {\n",
       "        vertical-align: top;\n",
       "    }\n",
       "\n",
       "    .dataframe thead th {\n",
       "        text-align: right;\n",
       "    }\n",
       "</style>\n",
       "<table border=\"1\" class=\"dataframe\">\n",
       "  <thead>\n",
       "    <tr style=\"text-align: right;\">\n",
       "      <th></th>\n",
       "      <th>text</th>\n",
       "      <th>agreeCount</th>\n",
       "      <th>disagreeCount</th>\n",
       "      <th>id</th>\n",
       "    </tr>\n",
       "  </thead>\n",
       "  <tbody>\n",
       "    <tr>\n",
       "      <th>0</th>\n",
       "      <td>Old world comfort where you can enjoy veal cho...</td>\n",
       "      <td>2</td>\n",
       "      <td>0</td>\n",
       "      <td>4c7ac41f278eb713ae245c80</td>\n",
       "    </tr>\n",
       "  </tbody>\n",
       "</table>\n",
       "</div>"
      ],
      "text/plain": [
       "                                                text  agreeCount  \\\n",
       "0  Old world comfort where you can enjoy veal cho...           2   \n",
       "\n",
       "   disagreeCount                        id  \n",
       "0              0  4c7ac41f278eb713ae245c80  "
      ]
     },
     "execution_count": 63,
     "metadata": {},
     "output_type": "execute_result"
    }
   ],
   "source": [
    "dftp = json_normalize(tip)\n",
    "dftp = dftp[['text', 'agreeCount', 'disagreeCount', 'id']]\n",
    "dftp"
   ]
  },
  {
   "cell_type": "markdown",
   "metadata": {},
   "source": [
    "# Exploring Locations"
   ]
  },
  {
   "cell_type": "code",
   "execution_count": 64,
   "metadata": {},
   "outputs": [],
   "source": [
    "lat = 40.715337\n",
    "lng = -74.008848"
   ]
  },
  {
   "cell_type": "code",
   "execution_count": 65,
   "metadata": {},
   "outputs": [
    {
     "data": {
      "text/plain": [
       "'https://api.foursquare.com/v2/venues/explore?client_id=ITKVISZUN50K5OIU5THJ0A330ABDVLFMOSX4NUB41ESFVYSA&client_secret=MACPFVUEFU3BEHD4YZREQUBDEBFX0JFOPQ0YLIEBRHWQ0ELC&ll=40.715337,-74.008848&v=20180604&radius=500&limit=20'"
      ]
     },
     "execution_count": 65,
     "metadata": {},
     "output_type": "execute_result"
    }
   ],
   "source": [
    "url ='https://api.foursquare.com/v2/venues/explore?client_id={}&client_secret={}&ll={},{}&v={}&radius={}&limit={}'.format(client_id,client_secret,lat,lng,ver,radius,lim)\n",
    "url"
   ]
  },
  {
   "cell_type": "code",
   "execution_count": 67,
   "metadata": {},
   "outputs": [
    {
     "name": "stdout",
     "output_type": "stream",
     "text": [
      "There are 20 points of interests around Ecco restaurant.\n"
     ]
    }
   ],
   "source": [
    "results = requests.get(url).json()\n",
    "print('There are {} points of interests around Ecco restaurant.'.format(len(results['response']['groups'][0]['items'])))"
   ]
  },
  {
   "cell_type": "code",
   "execution_count": 68,
   "metadata": {},
   "outputs": [
    {
     "data": {
      "text/plain": [
       "{'reasons': {'count': 0,\n",
       "  'items': [{'summary': 'This spot is popular',\n",
       "    'type': 'general',\n",
       "    'reasonName': 'globalInteractionReason'}]},\n",
       " 'venue': {'id': '5d5f24ec09484500079aee00',\n",
       "  'name': 'Los Tacos No. 1',\n",
       "  'location': {'address': '136 Church St',\n",
       "   'lat': 40.714267,\n",
       "   'lng': -74.008756,\n",
       "   'labeledLatLngs': [{'label': 'display',\n",
       "     'lat': 40.714267,\n",
       "     'lng': -74.008756}],\n",
       "   'distance': 119,\n",
       "   'postalCode': '10007',\n",
       "   'cc': 'US',\n",
       "   'city': 'New York',\n",
       "   'state': 'NY',\n",
       "   'country': 'United States',\n",
       "   'formattedAddress': ['136 Church St',\n",
       "    'New York, NY 10007',\n",
       "    'United States']},\n",
       "  'categories': [{'id': '4bf58dd8d48988d151941735',\n",
       "    'name': 'Taco Place',\n",
       "    'pluralName': 'Taco Places',\n",
       "    'shortName': 'Tacos',\n",
       "    'icon': {'prefix': 'https://ss3.4sqi.net/img/categories_v2/food/taco_',\n",
       "     'suffix': '.png'},\n",
       "    'primary': True}],\n",
       "  'photos': {'count': 0, 'groups': []}},\n",
       " 'referralId': 'e-0-5d5f24ec09484500079aee00-0'}"
      ]
     },
     "execution_count": 68,
     "metadata": {},
     "output_type": "execute_result"
    }
   ],
   "source": [
    "items = results['response']['groups'][0]['items']\n",
    "items[0]"
   ]
  },
  {
   "cell_type": "code",
   "execution_count": 72,
   "metadata": {},
   "outputs": [
    {
     "name": "stderr",
     "output_type": "stream",
     "text": [
      "<ipython-input-72-e7088866932e>:1: FutureWarning: pandas.io.json.json_normalize is deprecated, use pandas.json_normalize instead\n",
      "  df_xpl = json_normalize(items) # flatten JSON\n"
     ]
    },
    {
     "data": {
      "text/html": [
       "<div>\n",
       "<style scoped>\n",
       "    .dataframe tbody tr th:only-of-type {\n",
       "        vertical-align: middle;\n",
       "    }\n",
       "\n",
       "    .dataframe tbody tr th {\n",
       "        vertical-align: top;\n",
       "    }\n",
       "\n",
       "    .dataframe thead th {\n",
       "        text-align: right;\n",
       "    }\n",
       "</style>\n",
       "<table border=\"1\" class=\"dataframe\">\n",
       "  <thead>\n",
       "    <tr style=\"text-align: right;\">\n",
       "      <th></th>\n",
       "      <th>name</th>\n",
       "      <th>categories</th>\n",
       "      <th>address</th>\n",
       "      <th>lat</th>\n",
       "      <th>lng</th>\n",
       "      <th>labeledLatLngs</th>\n",
       "      <th>distance</th>\n",
       "      <th>postalCode</th>\n",
       "      <th>cc</th>\n",
       "      <th>city</th>\n",
       "      <th>state</th>\n",
       "      <th>country</th>\n",
       "      <th>formattedAddress</th>\n",
       "      <th>crossStreet</th>\n",
       "      <th>neighborhood</th>\n",
       "      <th>id</th>\n",
       "    </tr>\n",
       "  </thead>\n",
       "  <tbody>\n",
       "    <tr>\n",
       "      <th>0</th>\n",
       "      <td>Los Tacos No. 1</td>\n",
       "      <td>Taco Place</td>\n",
       "      <td>136 Church St</td>\n",
       "      <td>40.714267</td>\n",
       "      <td>-74.008756</td>\n",
       "      <td>[{'label': 'display', 'lat': 40.714267, 'lng':...</td>\n",
       "      <td>119</td>\n",
       "      <td>10007</td>\n",
       "      <td>US</td>\n",
       "      <td>New York</td>\n",
       "      <td>NY</td>\n",
       "      <td>United States</td>\n",
       "      <td>[136 Church St, New York, NY 10007, United Sta...</td>\n",
       "      <td>NaN</td>\n",
       "      <td>NaN</td>\n",
       "      <td>5d5f24ec09484500079aee00</td>\n",
       "    </tr>\n",
       "    <tr>\n",
       "      <th>1</th>\n",
       "      <td>Korin</td>\n",
       "      <td>Furniture / Home Store</td>\n",
       "      <td>57 Warren St</td>\n",
       "      <td>40.714824</td>\n",
       "      <td>-74.009404</td>\n",
       "      <td>[{'label': 'display', 'lat': 40.71482437714839...</td>\n",
       "      <td>73</td>\n",
       "      <td>10007</td>\n",
       "      <td>US</td>\n",
       "      <td>New York</td>\n",
       "      <td>NY</td>\n",
       "      <td>United States</td>\n",
       "      <td>[57 Warren St (Church St), New York, NY 10007,...</td>\n",
       "      <td>Church St</td>\n",
       "      <td>Tribeca</td>\n",
       "      <td>4af5d65ff964a52091fd21e3</td>\n",
       "    </tr>\n",
       "    <tr>\n",
       "      <th>2</th>\n",
       "      <td>Juice Press</td>\n",
       "      <td>Vegetarian / Vegan Restaurant</td>\n",
       "      <td>83 Murray St</td>\n",
       "      <td>40.714788</td>\n",
       "      <td>-74.011132</td>\n",
       "      <td>[{'label': 'display', 'lat': 40.71478769908051...</td>\n",
       "      <td>202</td>\n",
       "      <td>10007</td>\n",
       "      <td>US</td>\n",
       "      <td>New York</td>\n",
       "      <td>NY</td>\n",
       "      <td>United States</td>\n",
       "      <td>[83 Murray St (btwn Greenwich St &amp; W Broadway)...</td>\n",
       "      <td>btwn Greenwich St &amp; W Broadway</td>\n",
       "      <td>NaN</td>\n",
       "      <td>54148bc6498ea7bb8c05b70a</td>\n",
       "    </tr>\n",
       "    <tr>\n",
       "      <th>3</th>\n",
       "      <td>Takahachi Bakery</td>\n",
       "      <td>Bakery</td>\n",
       "      <td>25 Murray St</td>\n",
       "      <td>40.713653</td>\n",
       "      <td>-74.008804</td>\n",
       "      <td>[{'label': 'display', 'lat': 40.71365284530189...</td>\n",
       "      <td>187</td>\n",
       "      <td>10007</td>\n",
       "      <td>US</td>\n",
       "      <td>New York</td>\n",
       "      <td>NY</td>\n",
       "      <td>United States</td>\n",
       "      <td>[25 Murray St (at Church St), New York, NY 100...</td>\n",
       "      <td>at Church St</td>\n",
       "      <td>NaN</td>\n",
       "      <td>4c154c9a77cea593c401d260</td>\n",
       "    </tr>\n",
       "    <tr>\n",
       "      <th>4</th>\n",
       "      <td>Chambers Street Wines</td>\n",
       "      <td>Wine Shop</td>\n",
       "      <td>148 Chambers St</td>\n",
       "      <td>40.715773</td>\n",
       "      <td>-74.009718</td>\n",
       "      <td>[{'label': 'display', 'lat': 40.71577306392837...</td>\n",
       "      <td>88</td>\n",
       "      <td>10007</td>\n",
       "      <td>US</td>\n",
       "      <td>New York</td>\n",
       "      <td>NY</td>\n",
       "      <td>United States</td>\n",
       "      <td>[148 Chambers St (btwn West Broadway &amp; Hudson ...</td>\n",
       "      <td>btwn West Broadway &amp; Hudson St</td>\n",
       "      <td>NaN</td>\n",
       "      <td>4adcf23cf964a520cc6221e3</td>\n",
       "    </tr>\n",
       "  </tbody>\n",
       "</table>\n",
       "</div>"
      ],
      "text/plain": [
       "                    name                     categories          address  \\\n",
       "0        Los Tacos No. 1                     Taco Place    136 Church St   \n",
       "1                  Korin         Furniture / Home Store     57 Warren St   \n",
       "2            Juice Press  Vegetarian / Vegan Restaurant     83 Murray St   \n",
       "3       Takahachi Bakery                         Bakery     25 Murray St   \n",
       "4  Chambers Street Wines                      Wine Shop  148 Chambers St   \n",
       "\n",
       "         lat        lng                                     labeledLatLngs  \\\n",
       "0  40.714267 -74.008756  [{'label': 'display', 'lat': 40.714267, 'lng':...   \n",
       "1  40.714824 -74.009404  [{'label': 'display', 'lat': 40.71482437714839...   \n",
       "2  40.714788 -74.011132  [{'label': 'display', 'lat': 40.71478769908051...   \n",
       "3  40.713653 -74.008804  [{'label': 'display', 'lat': 40.71365284530189...   \n",
       "4  40.715773 -74.009718  [{'label': 'display', 'lat': 40.71577306392837...   \n",
       "\n",
       "   distance postalCode  cc      city state        country  \\\n",
       "0       119      10007  US  New York    NY  United States   \n",
       "1        73      10007  US  New York    NY  United States   \n",
       "2       202      10007  US  New York    NY  United States   \n",
       "3       187      10007  US  New York    NY  United States   \n",
       "4        88      10007  US  New York    NY  United States   \n",
       "\n",
       "                                    formattedAddress  \\\n",
       "0  [136 Church St, New York, NY 10007, United Sta...   \n",
       "1  [57 Warren St (Church St), New York, NY 10007,...   \n",
       "2  [83 Murray St (btwn Greenwich St & W Broadway)...   \n",
       "3  [25 Murray St (at Church St), New York, NY 100...   \n",
       "4  [148 Chambers St (btwn West Broadway & Hudson ...   \n",
       "\n",
       "                      crossStreet neighborhood                        id  \n",
       "0                             NaN          NaN  5d5f24ec09484500079aee00  \n",
       "1                       Church St      Tribeca  4af5d65ff964a52091fd21e3  \n",
       "2  btwn Greenwich St & W Broadway          NaN  54148bc6498ea7bb8c05b70a  \n",
       "3                    at Church St          NaN  4c154c9a77cea593c401d260  \n",
       "4  btwn West Broadway & Hudson St          NaN  4adcf23cf964a520cc6221e3  "
      ]
     },
     "execution_count": 72,
     "metadata": {},
     "output_type": "execute_result"
    }
   ],
   "source": [
    "df_xpl = json_normalize(items) # flatten JSON\n",
    "\n",
    "# filter columns\n",
    "fil_cols = ['venue.name', 'venue.categories'] + [col for col in dataframe.columns if col.startswith('venue.location.')] + ['venue.id']\n",
    "df_xpl = df_xpl.loc[:, fil_cols]\n",
    "\n",
    "# filter the category for each row\n",
    "df_xpl['venue.categories'] = df_xpl.apply(get_category_type, axis=1)\n",
    "\n",
    "# clean columns\n",
    "df_xpl.columns = [col.split('.')[-1] for col in df_xpl.columns]\n",
    "\n",
    "df_xpl.head()"
   ]
  },
  {
   "cell_type": "code",
   "execution_count": 77,
   "metadata": {},
   "outputs": [
    {
     "data": {
      "text/html": [
       "<div style=\"width:100%;\"><div style=\"position:relative;width:100%;height:0;padding-bottom:60%;\"><span style=\"color:#565656\">Make this Notebook Trusted to load map: File -> Trust Notebook</span><iframe src=\"about:blank\" style=\"position:absolute;width:100%;height:100%;left:0;top:0;border:none !important;\" data-html=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 onload=\"this.contentDocument.open();this.contentDocument.write(atob(this.getAttribute('data-html')));this.contentDocument.close();\" allowfullscreen webkitallowfullscreen mozallowfullscreen></iframe></div></div>"
      ],
      "text/plain": [
       "<folium.folium.Map at 0xc8269d0>"
      ]
     },
     "execution_count": 77,
     "metadata": {},
     "output_type": "execute_result"
    }
   ],
   "source": [
    "loc_m = folium.Map(location=[lat,lng], zoom_start=15)\n",
    "\n",
    "folium.CircleMarker(\n",
    "    [lat,lng],\n",
    "    popup='Ecco',\n",
    "    radius=12,\n",
    "    fill=True,\n",
    "    fill_color='red',\n",
    "    fill_opacity=0.2).add_to(loc_m)\n",
    "\n",
    "for lat,lng,label in zip(df_xpl.lat,df_xpl.lng,df_xpl.categories):\n",
    "    folium.CircleMarker(\n",
    "        [lat,lng],\n",
    "        radius=8,\n",
    "        popup=label,\n",
    "        fill=True,\n",
    "        fill_color='yellow',\n",
    "        fill_opacity=0.4).add_to(loc_m)\n",
    "\n",
    "loc_m"
   ]
  },
  {
   "cell_type": "code",
   "execution_count": null,
   "metadata": {},
   "outputs": [],
   "source": []
  }
 ],
 "metadata": {
  "kernelspec": {
   "display_name": "Python 3",
   "language": "python",
   "name": "python3"
  },
  "language_info": {
   "codemirror_mode": {
    "name": "ipython",
    "version": 3
   },
   "file_extension": ".py",
   "mimetype": "text/x-python",
   "name": "python",
   "nbconvert_exporter": "python",
   "pygments_lexer": "ipython3",
   "version": "3.8.3"
  }
 },
 "nbformat": 4,
 "nbformat_minor": 4
}
